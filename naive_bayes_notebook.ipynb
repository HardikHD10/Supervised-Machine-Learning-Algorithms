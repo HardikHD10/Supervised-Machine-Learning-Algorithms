{
 "cells": [
  {
   "cell_type": "code",
   "execution_count": null,
   "id": "4c475a94",
   "metadata": {},
   "outputs": [],
   "source": [
    "\n",
    "# Generalized Code for Naive Bayes\n",
    "\n",
    "# 1. Importing Libraries\n",
    "import numpy as np\n",
    "import pandas as pd\n",
    "from sklearn.naive_bayes import GaussianNB\n",
    "from sklearn.datasets import load_iris\n",
    "from sklearn.model_selection import train_test_split\n",
    "from sklearn.metrics import accuracy_score\n",
    "\n",
    "# 2. Generating Sample Data (This is a placeholder, replace with your dataset loading function)\n",
    "def generate_data():\n",
    "    data = load_iris()\n",
    "    return pd.DataFrame(data.data, columns=data.feature_names), data.target\n",
    "\n",
    "# 3. Naive Bayes Function\n",
    "def perform_naive_bayes(X_train, y_train, X_test):\n",
    "    nb = GaussianNB()\n",
    "    nb.fit(X_train, y_train)\n",
    "    y_pred = nb.predict(X_test)\n",
    "    return y_pred\n",
    "\n",
    "# 4. Main Execution\n",
    "if __name__ == \"__main__\":\n",
    "    data, labels = generate_data()\n",
    "    X_train, X_test, y_train, y_test = train_test_split(data, labels, test_size=0.2, random_state=42)\n",
    "    y_pred = perform_naive_bayes(X_train, y_train, X_test)\n",
    "    accuracy = accuracy_score(y_test, y_pred)\n",
    "    print(f\"Accuracy of Naive Bayes model: {accuracy * 100:.2f}%\")\n"
   ]
  }
 ],
 "metadata": {},
 "nbformat": 4,
 "nbformat_minor": 5
}
