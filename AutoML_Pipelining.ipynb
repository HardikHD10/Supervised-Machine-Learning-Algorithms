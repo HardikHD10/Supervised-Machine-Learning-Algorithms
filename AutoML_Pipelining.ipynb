{
 "cells": [
  {
   "cell_type": "code",
   "execution_count": 1,
   "id": "c6783d39",
   "metadata": {
    "pycharm": {
     "name": "#%%\n"
    }
   },
   "outputs": [
    {
     "name": "stdout",
     "output_type": "stream",
     "text": [
      "Requirement already satisfied: evalml in /Users/hardik/opt/anaconda3/lib/python3.9/site-packages (0.59.0)\r\n",
      "Requirement already satisfied: statsmodels>=0.12.2 in /Users/hardik/opt/anaconda3/lib/python3.9/site-packages (from evalml) (0.13.2)\r\n",
      "Requirement already satisfied: requirements-parser>=0.2.0 in /Users/hardik/opt/anaconda3/lib/python3.9/site-packages (from evalml) (0.5.0)\r\n",
      "Requirement already satisfied: lime>=0.2.0.1 in /Users/hardik/opt/anaconda3/lib/python3.9/site-packages (from evalml) (0.2.0.1)\r\n",
      "Requirement already satisfied: cloudpickle>=1.5.0 in /Users/hardik/opt/anaconda3/lib/python3.9/site-packages (from evalml) (2.0.0)\r\n",
      "Requirement already satisfied: pandas>=1.4.0 in /Users/hardik/opt/anaconda3/lib/python3.9/site-packages (from evalml) (1.4.4)\r\n",
      "Requirement already satisfied: pmdarima<2.0.0,>=1.8.1 in /Users/hardik/opt/anaconda3/lib/python3.9/site-packages (from evalml) (1.8.5)\r\n",
      "Requirement already satisfied: texttable>=1.6.2 in /Users/hardik/opt/anaconda3/lib/python3.9/site-packages (from evalml) (1.6.4)\r\n",
      "Requirement already satisfied: featuretools>=1.7.0 in /Users/hardik/opt/anaconda3/lib/python3.9/site-packages (from evalml) (1.15.0)\r\n",
      "Requirement already satisfied: matplotlib>=3.3.3 in /Users/hardik/opt/anaconda3/lib/python3.9/site-packages (from evalml) (3.5.1)\r\n",
      "Requirement already satisfied: vowpalwabbit>=8.11.0 in /Users/hardik/opt/anaconda3/lib/python3.9/site-packages (from evalml) (9.5.0)\r\n",
      "Requirement already satisfied: scipy>=1.5.0 in /Users/hardik/opt/anaconda3/lib/python3.9/site-packages (from evalml) (1.7.3)\r\n",
      "Requirement already satisfied: click>=7.1.2 in /Users/hardik/opt/anaconda3/lib/python3.9/site-packages (from evalml) (8.0.4)\r\n",
      "Requirement already satisfied: xgboost>=1.5.1 in /Users/hardik/opt/anaconda3/lib/python3.9/site-packages (from evalml) (1.6.2)\r\n",
      "Requirement already satisfied: scikit-optimize>=0.9.0 in /Users/hardik/opt/anaconda3/lib/python3.9/site-packages (from evalml) (0.9.0)\r\n",
      "Requirement already satisfied: catboost>=0.20 in /Users/hardik/opt/anaconda3/lib/python3.9/site-packages (from evalml) (1.1)\r\n",
      "Requirement already satisfied: colorama>=0.4.4 in /Users/hardik/opt/anaconda3/lib/python3.9/site-packages (from evalml) (0.4.4)\r\n",
      "Requirement already satisfied: numpy>=1.21.0 in /Users/hardik/opt/anaconda3/lib/python3.9/site-packages (from evalml) (1.21.5)\r\n",
      "Requirement already satisfied: category-encoders>=2.2.2 in /Users/hardik/opt/anaconda3/lib/python3.9/site-packages (from evalml) (2.5.1.post0)\r\n",
      "Requirement already satisfied: scikit-learn>=1.1.2 in /Users/hardik/opt/anaconda3/lib/python3.9/site-packages (from evalml) (1.1.2)\r\n",
      "Requirement already satisfied: dask>=2021.10.0 in /Users/hardik/opt/anaconda3/lib/python3.9/site-packages (from evalml) (2022.2.1)\r\n",
      "Requirement already satisfied: graphviz>=0.13 in /Users/hardik/opt/anaconda3/lib/python3.9/site-packages (from evalml) (0.20.1)\r\n",
      "Requirement already satisfied: pyzmq>=20.0.0 in /Users/hardik/opt/anaconda3/lib/python3.9/site-packages (from evalml) (22.3.0)\r\n",
      "Requirement already satisfied: kaleido>=0.1.0 in /Users/hardik/opt/anaconda3/lib/python3.9/site-packages (from evalml) (0.2.1)\r\n",
      "Requirement already satisfied: networkx<2.6,>=2.5 in /Users/hardik/opt/anaconda3/lib/python3.9/site-packages (from evalml) (2.5.1)\r\n",
      "Requirement already satisfied: ipywidgets>=7.5 in /Users/hardik/opt/anaconda3/lib/python3.9/site-packages (from evalml) (7.6.5)\r\n",
      "Requirement already satisfied: shap>=0.40.0 in /Users/hardik/opt/anaconda3/lib/python3.9/site-packages (from evalml) (0.41.0)\r\n",
      "Requirement already satisfied: imbalanced-learn>=0.9.1 in /Users/hardik/opt/anaconda3/lib/python3.9/site-packages (from evalml) (0.9.1)\r\n",
      "Requirement already satisfied: woodwork>=0.18.0 in /Users/hardik/opt/anaconda3/lib/python3.9/site-packages (from evalml) (0.19.0)\r\n",
      "Requirement already satisfied: sktime<0.13.1,>=0.12.0 in /Users/hardik/opt/anaconda3/lib/python3.9/site-packages (from evalml) (0.13.0)\r\n",
      "Requirement already satisfied: lightgbm>=2.3.1 in /Users/hardik/opt/anaconda3/lib/python3.9/site-packages (from evalml) (3.3.3)\r\n",
      "Requirement already satisfied: seaborn>=0.11.1 in /Users/hardik/opt/anaconda3/lib/python3.9/site-packages (from evalml) (0.11.2)\r\n",
      "Requirement already satisfied: plotly>=5.0.0 in /Users/hardik/opt/anaconda3/lib/python3.9/site-packages (from evalml) (5.6.0)\r\n",
      "Requirement already satisfied: nlp-primitives!=2.6.0,>=2.1.0 in /Users/hardik/opt/anaconda3/lib/python3.9/site-packages (from evalml) (2.8.0)\r\n",
      "Requirement already satisfied: six in /Users/hardik/opt/anaconda3/lib/python3.9/site-packages (from catboost>=0.20->evalml) (1.16.0)\r\n",
      "Requirement already satisfied: patsy>=0.5.1 in /Users/hardik/opt/anaconda3/lib/python3.9/site-packages (from category-encoders>=2.2.2->evalml) (0.5.2)\r\n",
      "Requirement already satisfied: packaging>=20.0 in /Users/hardik/opt/anaconda3/lib/python3.9/site-packages (from dask>=2021.10.0->evalml) (21.3)\r\n",
      "Requirement already satisfied: toolz>=0.8.2 in /Users/hardik/opt/anaconda3/lib/python3.9/site-packages (from dask>=2021.10.0->evalml) (0.11.2)\r\n",
      "Requirement already satisfied: pyyaml>=5.3.1 in /Users/hardik/opt/anaconda3/lib/python3.9/site-packages (from dask>=2021.10.0->evalml) (6.0)\r\n",
      "Requirement already satisfied: fsspec>=0.6.0 in /Users/hardik/opt/anaconda3/lib/python3.9/site-packages (from dask>=2021.10.0->evalml) (2022.2.0)\r\n",
      "Requirement already satisfied: partd>=0.3.10 in /Users/hardik/opt/anaconda3/lib/python3.9/site-packages (from dask>=2021.10.0->evalml) (1.2.0)\r\n",
      "Requirement already satisfied: holidays>=0.13 in /Users/hardik/opt/anaconda3/lib/python3.9/site-packages (from featuretools>=1.7.0->evalml) (0.16)\r\n",
      "Requirement already satisfied: distributed>=2022.2.0 in /Users/hardik/opt/anaconda3/lib/python3.9/site-packages (from featuretools>=1.7.0->evalml) (2022.2.1)\r\n",
      "Requirement already satisfied: tqdm>=4.32.0 in /Users/hardik/opt/anaconda3/lib/python3.9/site-packages (from featuretools>=1.7.0->evalml) (4.64.0)\r\n",
      "Requirement already satisfied: psutil>=5.6.6 in /Users/hardik/opt/anaconda3/lib/python3.9/site-packages (from featuretools>=1.7.0->evalml) (5.8.0)\r\n",
      "Requirement already satisfied: sortedcontainers!=2.0.0,!=2.0.1 in /Users/hardik/opt/anaconda3/lib/python3.9/site-packages (from distributed>=2022.2.0->featuretools>=1.7.0->evalml) (2.4.0)\r\n",
      "Requirement already satisfied: jinja2 in /Users/hardik/opt/anaconda3/lib/python3.9/site-packages (from distributed>=2022.2.0->featuretools>=1.7.0->evalml) (2.11.3)\r\n",
      "Requirement already satisfied: setuptools in /Users/hardik/opt/anaconda3/lib/python3.9/site-packages (from distributed>=2022.2.0->featuretools>=1.7.0->evalml) (61.2.0)\r\n",
      "Requirement already satisfied: msgpack>=0.6.0 in /Users/hardik/opt/anaconda3/lib/python3.9/site-packages (from distributed>=2022.2.0->featuretools>=1.7.0->evalml) (1.0.2)\r\n",
      "Requirement already satisfied: tblib>=1.6.0 in /Users/hardik/opt/anaconda3/lib/python3.9/site-packages (from distributed>=2022.2.0->featuretools>=1.7.0->evalml) (1.7.0)\r\n",
      "Requirement already satisfied: tornado>=6.0.3 in /Users/hardik/opt/anaconda3/lib/python3.9/site-packages (from distributed>=2022.2.0->featuretools>=1.7.0->evalml) (6.1)\r\n",
      "Requirement already satisfied: zict>=0.1.3 in /Users/hardik/opt/anaconda3/lib/python3.9/site-packages (from distributed>=2022.2.0->featuretools>=1.7.0->evalml) (2.0.0)\r\n",
      "Requirement already satisfied: convertdate>=2.3.0 in /Users/hardik/opt/anaconda3/lib/python3.9/site-packages (from holidays>=0.13->featuretools>=1.7.0->evalml) (2.4.0)\r\n",
      "Requirement already satisfied: hijri-converter in /Users/hardik/opt/anaconda3/lib/python3.9/site-packages (from holidays>=0.13->featuretools>=1.7.0->evalml) (2.2.4)\r\n",
      "Requirement already satisfied: python-dateutil in /Users/hardik/opt/anaconda3/lib/python3.9/site-packages (from holidays>=0.13->featuretools>=1.7.0->evalml) (2.8.2)\r\n",
      "Requirement already satisfied: korean-lunar-calendar in /Users/hardik/opt/anaconda3/lib/python3.9/site-packages (from holidays>=0.13->featuretools>=1.7.0->evalml) (0.3.1)\r\n",
      "Requirement already satisfied: pymeeus<=1,>=0.3.13 in /Users/hardik/opt/anaconda3/lib/python3.9/site-packages (from convertdate>=2.3.0->holidays>=0.13->featuretools>=1.7.0->evalml) (0.5.11)\r\n",
      "Requirement already satisfied: threadpoolctl>=2.0.0 in /Users/hardik/opt/anaconda3/lib/python3.9/site-packages (from imbalanced-learn>=0.9.1->evalml) (2.2.0)\r\n",
      "Requirement already satisfied: joblib>=1.0.0 in /Users/hardik/opt/anaconda3/lib/python3.9/site-packages (from imbalanced-learn>=0.9.1->evalml) (1.1.0)\r\n",
      "Requirement already satisfied: ipython>=4.0.0 in /Users/hardik/opt/anaconda3/lib/python3.9/site-packages (from ipywidgets>=7.5->evalml) (8.2.0)\r\n",
      "Requirement already satisfied: nbformat>=4.2.0 in /Users/hardik/opt/anaconda3/lib/python3.9/site-packages (from ipywidgets>=7.5->evalml) (5.3.0)\r\n",
      "Requirement already satisfied: ipython-genutils~=0.2.0 in /Users/hardik/opt/anaconda3/lib/python3.9/site-packages (from ipywidgets>=7.5->evalml) (0.2.0)\r\n",
      "Requirement already satisfied: jupyterlab-widgets>=1.0.0 in /Users/hardik/opt/anaconda3/lib/python3.9/site-packages (from ipywidgets>=7.5->evalml) (1.0.0)\r\n",
      "Requirement already satisfied: traitlets>=4.3.1 in /Users/hardik/opt/anaconda3/lib/python3.9/site-packages (from ipywidgets>=7.5->evalml) (5.1.1)\r\n",
      "Requirement already satisfied: ipykernel>=4.5.1 in /Users/hardik/opt/anaconda3/lib/python3.9/site-packages (from ipywidgets>=7.5->evalml) (6.9.1)\r\n",
      "Requirement already satisfied: widgetsnbextension~=3.5.0 in /Users/hardik/opt/anaconda3/lib/python3.9/site-packages (from ipywidgets>=7.5->evalml) (3.5.2)\r\n",
      "Requirement already satisfied: debugpy<2.0,>=1.0.0 in /Users/hardik/opt/anaconda3/lib/python3.9/site-packages (from ipykernel>=4.5.1->ipywidgets>=7.5->evalml) (1.5.1)\r\n",
      "Requirement already satisfied: nest-asyncio in /Users/hardik/opt/anaconda3/lib/python3.9/site-packages (from ipykernel>=4.5.1->ipywidgets>=7.5->evalml) (1.5.5)\r\n",
      "Requirement already satisfied: jupyter-client<8.0 in /Users/hardik/opt/anaconda3/lib/python3.9/site-packages (from ipykernel>=4.5.1->ipywidgets>=7.5->evalml) (6.1.12)\r\n",
      "Requirement already satisfied: matplotlib-inline<0.2.0,>=0.1.0 in /Users/hardik/opt/anaconda3/lib/python3.9/site-packages (from ipykernel>=4.5.1->ipywidgets>=7.5->evalml) (0.1.2)\r\n",
      "Requirement already satisfied: appnope in /Users/hardik/opt/anaconda3/lib/python3.9/site-packages (from ipykernel>=4.5.1->ipywidgets>=7.5->evalml) (0.1.2)\r\n",
      "Requirement already satisfied: pexpect>4.3 in /Users/hardik/opt/anaconda3/lib/python3.9/site-packages (from ipython>=4.0.0->ipywidgets>=7.5->evalml) (4.8.0)\r\n",
      "Requirement already satisfied: jedi>=0.16 in /Users/hardik/opt/anaconda3/lib/python3.9/site-packages (from ipython>=4.0.0->ipywidgets>=7.5->evalml) (0.18.1)\r\n",
      "Requirement already satisfied: pygments>=2.4.0 in /Users/hardik/opt/anaconda3/lib/python3.9/site-packages (from ipython>=4.0.0->ipywidgets>=7.5->evalml) (2.11.2)\r\n",
      "Requirement already satisfied: decorator in /Users/hardik/opt/anaconda3/lib/python3.9/site-packages (from ipython>=4.0.0->ipywidgets>=7.5->evalml) (4.4.2)\r\n",
      "Requirement already satisfied: prompt-toolkit!=3.0.0,!=3.0.1,<3.1.0,>=2.0.0 in /Users/hardik/opt/anaconda3/lib/python3.9/site-packages (from ipython>=4.0.0->ipywidgets>=7.5->evalml) (3.0.20)\r\n",
      "Requirement already satisfied: backcall in /Users/hardik/opt/anaconda3/lib/python3.9/site-packages (from ipython>=4.0.0->ipywidgets>=7.5->evalml) (0.2.0)\r\n",
      "Requirement already satisfied: pickleshare in /Users/hardik/opt/anaconda3/lib/python3.9/site-packages (from ipython>=4.0.0->ipywidgets>=7.5->evalml) (0.7.5)\r\n",
      "Requirement already satisfied: stack-data in /Users/hardik/opt/anaconda3/lib/python3.9/site-packages (from ipython>=4.0.0->ipywidgets>=7.5->evalml) (0.2.0)\r\n",
      "Requirement already satisfied: parso<0.9.0,>=0.8.0 in /Users/hardik/opt/anaconda3/lib/python3.9/site-packages (from jedi>=0.16->ipython>=4.0.0->ipywidgets>=7.5->evalml) (0.8.3)\r\n",
      "Requirement already satisfied: jupyter-core>=4.6.0 in /Users/hardik/opt/anaconda3/lib/python3.9/site-packages (from jupyter-client<8.0->ipykernel>=4.5.1->ipywidgets>=7.5->evalml) (4.9.2)\r\n",
      "Requirement already satisfied: wheel in /Users/hardik/opt/anaconda3/lib/python3.9/site-packages (from lightgbm>=2.3.1->evalml) (0.37.1)\r\n",
      "Requirement already satisfied: scikit-image>=0.12 in /Users/hardik/opt/anaconda3/lib/python3.9/site-packages (from lime>=0.2.0.1->evalml) (0.19.2)\r\n",
      "Requirement already satisfied: cycler>=0.10 in /Users/hardik/opt/anaconda3/lib/python3.9/site-packages (from matplotlib>=3.3.3->evalml) (0.11.0)\r\n",
      "Requirement already satisfied: kiwisolver>=1.0.1 in /Users/hardik/opt/anaconda3/lib/python3.9/site-packages (from matplotlib>=3.3.3->evalml) (1.3.2)\r\n",
      "Requirement already satisfied: pyparsing>=2.2.1 in /Users/hardik/opt/anaconda3/lib/python3.9/site-packages (from matplotlib>=3.3.3->evalml) (3.0.4)\r\n",
      "Requirement already satisfied: fonttools>=4.22.0 in /Users/hardik/opt/anaconda3/lib/python3.9/site-packages (from matplotlib>=3.3.3->evalml) (4.25.0)\r\n",
      "Requirement already satisfied: pillow>=6.2.0 in /Users/hardik/opt/anaconda3/lib/python3.9/site-packages (from matplotlib>=3.3.3->evalml) (9.0.1)\r\n",
      "Requirement already satisfied: fastjsonschema in /Users/hardik/opt/anaconda3/lib/python3.9/site-packages (from nbformat>=4.2.0->ipywidgets>=7.5->evalml) (2.15.1)\r\n",
      "Requirement already satisfied: jsonschema>=2.6 in /Users/hardik/opt/anaconda3/lib/python3.9/site-packages (from nbformat>=4.2.0->ipywidgets>=7.5->evalml) (4.4.0)\r\n",
      "Requirement already satisfied: pyrsistent!=0.17.0,!=0.17.1,!=0.17.2,>=0.14.0 in /Users/hardik/opt/anaconda3/lib/python3.9/site-packages (from jsonschema>=2.6->nbformat>=4.2.0->ipywidgets>=7.5->evalml) (0.18.0)\r\n",
      "Requirement already satisfied: attrs>=17.4.0 in /Users/hardik/opt/anaconda3/lib/python3.9/site-packages (from jsonschema>=2.6->nbformat>=4.2.0->ipywidgets>=7.5->evalml) (21.4.0)\r\n",
      "Requirement already satisfied: nltk>=3.4.5 in /Users/hardik/opt/anaconda3/lib/python3.9/site-packages (from nlp-primitives!=2.6.0,>=2.1.0->evalml) (3.7)\r\n",
      "Requirement already satisfied: regex>=2021.8.3 in /Users/hardik/opt/anaconda3/lib/python3.9/site-packages (from nltk>=3.4.5->nlp-primitives!=2.6.0,>=2.1.0->evalml) (2022.3.15)\r\n",
      "Requirement already satisfied: pytz>=2020.1 in /Users/hardik/opt/anaconda3/lib/python3.9/site-packages (from pandas>=1.4.0->evalml) (2021.3)\r\n",
      "Requirement already satisfied: locket in /Users/hardik/opt/anaconda3/lib/python3.9/site-packages (from partd>=0.3.10->dask>=2021.10.0->evalml) (0.2.1)\r\n",
      "Requirement already satisfied: ptyprocess>=0.5 in /Users/hardik/opt/anaconda3/lib/python3.9/site-packages (from pexpect>4.3->ipython>=4.0.0->ipywidgets>=7.5->evalml) (0.7.0)\r\n",
      "Requirement already satisfied: tenacity>=6.2.0 in /Users/hardik/opt/anaconda3/lib/python3.9/site-packages (from plotly>=5.0.0->evalml) (8.0.1)\r\n",
      "Requirement already satisfied: Cython!=0.29.18,>=0.29 in /Users/hardik/opt/anaconda3/lib/python3.9/site-packages (from pmdarima<2.0.0,>=1.8.1->evalml) (0.29.28)\r\n",
      "Requirement already satisfied: urllib3 in /Users/hardik/opt/anaconda3/lib/python3.9/site-packages (from pmdarima<2.0.0,>=1.8.1->evalml) (1.26.9)\r\n",
      "Requirement already satisfied: wcwidth in /Users/hardik/opt/anaconda3/lib/python3.9/site-packages (from prompt-toolkit!=3.0.0,!=3.0.1,<3.1.0,>=2.0.0->ipython>=4.0.0->ipywidgets>=7.5->evalml) (0.2.5)\r\n",
      "Requirement already satisfied: types-setuptools>=57.0.0 in /Users/hardik/opt/anaconda3/lib/python3.9/site-packages (from requirements-parser>=0.2.0->evalml) (65.5.0.1)\r\n",
      "Requirement already satisfied: tifffile>=2019.7.26 in /Users/hardik/opt/anaconda3/lib/python3.9/site-packages (from scikit-image>=0.12->lime>=0.2.0.1->evalml) (2021.7.2)\r\n",
      "Requirement already satisfied: imageio>=2.4.1 in /Users/hardik/opt/anaconda3/lib/python3.9/site-packages (from scikit-image>=0.12->lime>=0.2.0.1->evalml) (2.9.0)\r\n",
      "Requirement already satisfied: PyWavelets>=1.1.1 in /Users/hardik/opt/anaconda3/lib/python3.9/site-packages (from scikit-image>=0.12->lime>=0.2.0.1->evalml) (1.3.0)\r\n",
      "Requirement already satisfied: pyaml>=16.9 in /Users/hardik/opt/anaconda3/lib/python3.9/site-packages (from scikit-optimize>=0.9.0->evalml) (21.10.1)\r\n",
      "Requirement already satisfied: slicer==0.0.7 in /Users/hardik/opt/anaconda3/lib/python3.9/site-packages (from shap>=0.40.0->evalml) (0.0.7)\r\n",
      "Requirement already satisfied: numba in /Users/hardik/opt/anaconda3/lib/python3.9/site-packages (from shap>=0.40.0->evalml) (0.55.1)\r\n",
      "Requirement already satisfied: deprecated>=1.2.13 in /Users/hardik/opt/anaconda3/lib/python3.9/site-packages (from sktime<0.13.1,>=0.12.0->evalml) (1.2.13)\r\n",
      "Requirement already satisfied: wrapt<2,>=1.10 in /Users/hardik/opt/anaconda3/lib/python3.9/site-packages (from deprecated>=1.2.13->sktime<0.13.1,>=0.12.0->evalml) (1.12.1)\r\n",
      "Requirement already satisfied: llvmlite<0.39,>=0.38.0rc1 in /Users/hardik/opt/anaconda3/lib/python3.9/site-packages (from numba->shap>=0.40.0->evalml) (0.38.0)\r\n",
      "Requirement already satisfied: notebook>=4.4.1 in /Users/hardik/opt/anaconda3/lib/python3.9/site-packages (from widgetsnbextension~=3.5.0->ipywidgets>=7.5->evalml) (6.4.8)\r\n",
      "Requirement already satisfied: nbconvert in /Users/hardik/opt/anaconda3/lib/python3.9/site-packages (from notebook>=4.4.1->widgetsnbextension~=3.5.0->ipywidgets>=7.5->evalml) (6.4.4)\r\n",
      "Requirement already satisfied: terminado>=0.8.3 in /Users/hardik/opt/anaconda3/lib/python3.9/site-packages (from notebook>=4.4.1->widgetsnbextension~=3.5.0->ipywidgets>=7.5->evalml) (0.13.1)\r\n",
      "Requirement already satisfied: prometheus-client in /Users/hardik/opt/anaconda3/lib/python3.9/site-packages (from notebook>=4.4.1->widgetsnbextension~=3.5.0->ipywidgets>=7.5->evalml) (0.13.1)\r\n",
      "Requirement already satisfied: argon2-cffi in /Users/hardik/opt/anaconda3/lib/python3.9/site-packages (from notebook>=4.4.1->widgetsnbextension~=3.5.0->ipywidgets>=7.5->evalml) (21.3.0)\r\n",
      "Requirement already satisfied: Send2Trash>=1.8.0 in /Users/hardik/opt/anaconda3/lib/python3.9/site-packages (from notebook>=4.4.1->widgetsnbextension~=3.5.0->ipywidgets>=7.5->evalml) (1.8.0)\r\n",
      "Requirement already satisfied: heapdict in /Users/hardik/opt/anaconda3/lib/python3.9/site-packages (from zict>=0.1.3->distributed>=2022.2.0->featuretools>=1.7.0->evalml) (1.0.1)\r\n",
      "Requirement already satisfied: argon2-cffi-bindings in /Users/hardik/opt/anaconda3/lib/python3.9/site-packages (from argon2-cffi->notebook>=4.4.1->widgetsnbextension~=3.5.0->ipywidgets>=7.5->evalml) (21.2.0)\r\n",
      "Requirement already satisfied: cffi>=1.0.1 in /Users/hardik/opt/anaconda3/lib/python3.9/site-packages (from argon2-cffi-bindings->argon2-cffi->notebook>=4.4.1->widgetsnbextension~=3.5.0->ipywidgets>=7.5->evalml) (1.15.0)\r\n",
      "Requirement already satisfied: pycparser in /Users/hardik/opt/anaconda3/lib/python3.9/site-packages (from cffi>=1.0.1->argon2-cffi-bindings->argon2-cffi->notebook>=4.4.1->widgetsnbextension~=3.5.0->ipywidgets>=7.5->evalml) (2.21)\r\n",
      "Requirement already satisfied: MarkupSafe>=0.23 in /Users/hardik/opt/anaconda3/lib/python3.9/site-packages (from jinja2->distributed>=2022.2.0->featuretools>=1.7.0->evalml) (2.0.1)\r\n",
      "Requirement already satisfied: defusedxml in /Users/hardik/opt/anaconda3/lib/python3.9/site-packages (from nbconvert->notebook>=4.4.1->widgetsnbextension~=3.5.0->ipywidgets>=7.5->evalml) (0.7.1)\r\n",
      "Requirement already satisfied: entrypoints>=0.2.2 in /Users/hardik/opt/anaconda3/lib/python3.9/site-packages (from nbconvert->notebook>=4.4.1->widgetsnbextension~=3.5.0->ipywidgets>=7.5->evalml) (0.4)\r\n",
      "Requirement already satisfied: testpath in /Users/hardik/opt/anaconda3/lib/python3.9/site-packages (from nbconvert->notebook>=4.4.1->widgetsnbextension~=3.5.0->ipywidgets>=7.5->evalml) (0.5.0)\r\n",
      "Requirement already satisfied: pandocfilters>=1.4.1 in /Users/hardik/opt/anaconda3/lib/python3.9/site-packages (from nbconvert->notebook>=4.4.1->widgetsnbextension~=3.5.0->ipywidgets>=7.5->evalml) (1.5.0)\r\n",
      "Requirement already satisfied: beautifulsoup4 in /Users/hardik/opt/anaconda3/lib/python3.9/site-packages (from nbconvert->notebook>=4.4.1->widgetsnbextension~=3.5.0->ipywidgets>=7.5->evalml) (4.11.1)\r\n",
      "Requirement already satisfied: jupyterlab-pygments in /Users/hardik/opt/anaconda3/lib/python3.9/site-packages (from nbconvert->notebook>=4.4.1->widgetsnbextension~=3.5.0->ipywidgets>=7.5->evalml) (0.1.2)\r\n",
      "Requirement already satisfied: mistune<2,>=0.8.1 in /Users/hardik/opt/anaconda3/lib/python3.9/site-packages (from nbconvert->notebook>=4.4.1->widgetsnbextension~=3.5.0->ipywidgets>=7.5->evalml) (0.8.4)\r\n",
      "Requirement already satisfied: nbclient<0.6.0,>=0.5.0 in /Users/hardik/opt/anaconda3/lib/python3.9/site-packages (from nbconvert->notebook>=4.4.1->widgetsnbextension~=3.5.0->ipywidgets>=7.5->evalml) (0.5.13)\r\n",
      "Requirement already satisfied: bleach in /Users/hardik/opt/anaconda3/lib/python3.9/site-packages (from nbconvert->notebook>=4.4.1->widgetsnbextension~=3.5.0->ipywidgets>=7.5->evalml) (4.1.0)\r\n",
      "Requirement already satisfied: soupsieve>1.2 in /Users/hardik/opt/anaconda3/lib/python3.9/site-packages (from beautifulsoup4->nbconvert->notebook>=4.4.1->widgetsnbextension~=3.5.0->ipywidgets>=7.5->evalml) (2.3.1)\r\n",
      "Requirement already satisfied: webencodings in /Users/hardik/opt/anaconda3/lib/python3.9/site-packages (from bleach->nbconvert->notebook>=4.4.1->widgetsnbextension~=3.5.0->ipywidgets>=7.5->evalml) (0.5.1)\r\n",
      "Requirement already satisfied: executing in /Users/hardik/opt/anaconda3/lib/python3.9/site-packages (from stack-data->ipython>=4.0.0->ipywidgets>=7.5->evalml) (0.8.3)\r\n",
      "Requirement already satisfied: asttokens in /Users/hardik/opt/anaconda3/lib/python3.9/site-packages (from stack-data->ipython>=4.0.0->ipywidgets>=7.5->evalml) (2.0.5)\r\n",
      "Requirement already satisfied: pure-eval in /Users/hardik/opt/anaconda3/lib/python3.9/site-packages (from stack-data->ipython>=4.0.0->ipywidgets>=7.5->evalml) (0.2.2)\r\n",
      "Note: you may need to restart the kernel to use updated packages.\n"
     ]
    }
   ],
   "source": [
    "pip install evalml"
   ]
  },
  {
   "cell_type": "code",
   "execution_count": 5,
   "id": "3e3d967f",
   "metadata": {
    "pycharm": {
     "name": "#%%\n"
    }
   },
   "outputs": [],
   "source": [
    "import pandas as pd\n",
    "import numpy as np\n",
    "import seaborn as sns"
   ]
  },
  {
   "cell_type": "code",
   "execution_count": 6,
   "id": "1091f10e",
   "metadata": {
    "pycharm": {
     "name": "#%%\n"
    }
   },
   "outputs": [],
   "source": [
    "df=pd.read_csv(\"heart.csv\")"
   ]
  },
  {
   "cell_type": "code",
   "execution_count": 7,
   "id": "e2970d60",
   "metadata": {
    "pycharm": {
     "name": "#%%\n"
    }
   },
   "outputs": [
    {
     "data": {
      "text/html": [
       "<div>\n",
       "<style scoped>\n",
       "    .dataframe tbody tr th:only-of-type {\n",
       "        vertical-align: middle;\n",
       "    }\n",
       "\n",
       "    .dataframe tbody tr th {\n",
       "        vertical-align: top;\n",
       "    }\n",
       "\n",
       "    .dataframe thead th {\n",
       "        text-align: right;\n",
       "    }\n",
       "</style>\n",
       "<table border=\"1\" class=\"dataframe\">\n",
       "  <thead>\n",
       "    <tr style=\"text-align: right;\">\n",
       "      <th></th>\n",
       "      <th>age</th>\n",
       "      <th>sex</th>\n",
       "      <th>cp</th>\n",
       "      <th>trtbps</th>\n",
       "      <th>chol</th>\n",
       "      <th>fbs</th>\n",
       "      <th>restecg</th>\n",
       "      <th>thalachh</th>\n",
       "      <th>exng</th>\n",
       "      <th>oldpeak</th>\n",
       "      <th>slp</th>\n",
       "      <th>caa</th>\n",
       "      <th>thall</th>\n",
       "      <th>output</th>\n",
       "    </tr>\n",
       "  </thead>\n",
       "  <tbody>\n",
       "    <tr>\n",
       "      <th>0</th>\n",
       "      <td>63</td>\n",
       "      <td>1</td>\n",
       "      <td>3</td>\n",
       "      <td>145</td>\n",
       "      <td>233</td>\n",
       "      <td>1</td>\n",
       "      <td>0</td>\n",
       "      <td>150</td>\n",
       "      <td>0</td>\n",
       "      <td>2.3</td>\n",
       "      <td>0</td>\n",
       "      <td>0</td>\n",
       "      <td>1</td>\n",
       "      <td>1</td>\n",
       "    </tr>\n",
       "    <tr>\n",
       "      <th>1</th>\n",
       "      <td>37</td>\n",
       "      <td>1</td>\n",
       "      <td>2</td>\n",
       "      <td>130</td>\n",
       "      <td>250</td>\n",
       "      <td>0</td>\n",
       "      <td>1</td>\n",
       "      <td>187</td>\n",
       "      <td>0</td>\n",
       "      <td>3.5</td>\n",
       "      <td>0</td>\n",
       "      <td>0</td>\n",
       "      <td>2</td>\n",
       "      <td>1</td>\n",
       "    </tr>\n",
       "    <tr>\n",
       "      <th>2</th>\n",
       "      <td>41</td>\n",
       "      <td>0</td>\n",
       "      <td>1</td>\n",
       "      <td>130</td>\n",
       "      <td>204</td>\n",
       "      <td>0</td>\n",
       "      <td>0</td>\n",
       "      <td>172</td>\n",
       "      <td>0</td>\n",
       "      <td>1.4</td>\n",
       "      <td>2</td>\n",
       "      <td>0</td>\n",
       "      <td>2</td>\n",
       "      <td>1</td>\n",
       "    </tr>\n",
       "    <tr>\n",
       "      <th>3</th>\n",
       "      <td>56</td>\n",
       "      <td>1</td>\n",
       "      <td>1</td>\n",
       "      <td>120</td>\n",
       "      <td>236</td>\n",
       "      <td>0</td>\n",
       "      <td>1</td>\n",
       "      <td>178</td>\n",
       "      <td>0</td>\n",
       "      <td>0.8</td>\n",
       "      <td>2</td>\n",
       "      <td>0</td>\n",
       "      <td>2</td>\n",
       "      <td>1</td>\n",
       "    </tr>\n",
       "    <tr>\n",
       "      <th>4</th>\n",
       "      <td>57</td>\n",
       "      <td>0</td>\n",
       "      <td>0</td>\n",
       "      <td>120</td>\n",
       "      <td>354</td>\n",
       "      <td>0</td>\n",
       "      <td>1</td>\n",
       "      <td>163</td>\n",
       "      <td>1</td>\n",
       "      <td>0.6</td>\n",
       "      <td>2</td>\n",
       "      <td>0</td>\n",
       "      <td>2</td>\n",
       "      <td>1</td>\n",
       "    </tr>\n",
       "    <tr>\n",
       "      <th>...</th>\n",
       "      <td>...</td>\n",
       "      <td>...</td>\n",
       "      <td>...</td>\n",
       "      <td>...</td>\n",
       "      <td>...</td>\n",
       "      <td>...</td>\n",
       "      <td>...</td>\n",
       "      <td>...</td>\n",
       "      <td>...</td>\n",
       "      <td>...</td>\n",
       "      <td>...</td>\n",
       "      <td>...</td>\n",
       "      <td>...</td>\n",
       "      <td>...</td>\n",
       "    </tr>\n",
       "    <tr>\n",
       "      <th>298</th>\n",
       "      <td>57</td>\n",
       "      <td>0</td>\n",
       "      <td>0</td>\n",
       "      <td>140</td>\n",
       "      <td>241</td>\n",
       "      <td>0</td>\n",
       "      <td>1</td>\n",
       "      <td>123</td>\n",
       "      <td>1</td>\n",
       "      <td>0.2</td>\n",
       "      <td>1</td>\n",
       "      <td>0</td>\n",
       "      <td>3</td>\n",
       "      <td>0</td>\n",
       "    </tr>\n",
       "    <tr>\n",
       "      <th>299</th>\n",
       "      <td>45</td>\n",
       "      <td>1</td>\n",
       "      <td>3</td>\n",
       "      <td>110</td>\n",
       "      <td>264</td>\n",
       "      <td>0</td>\n",
       "      <td>1</td>\n",
       "      <td>132</td>\n",
       "      <td>0</td>\n",
       "      <td>1.2</td>\n",
       "      <td>1</td>\n",
       "      <td>0</td>\n",
       "      <td>3</td>\n",
       "      <td>0</td>\n",
       "    </tr>\n",
       "    <tr>\n",
       "      <th>300</th>\n",
       "      <td>68</td>\n",
       "      <td>1</td>\n",
       "      <td>0</td>\n",
       "      <td>144</td>\n",
       "      <td>193</td>\n",
       "      <td>1</td>\n",
       "      <td>1</td>\n",
       "      <td>141</td>\n",
       "      <td>0</td>\n",
       "      <td>3.4</td>\n",
       "      <td>1</td>\n",
       "      <td>2</td>\n",
       "      <td>3</td>\n",
       "      <td>0</td>\n",
       "    </tr>\n",
       "    <tr>\n",
       "      <th>301</th>\n",
       "      <td>57</td>\n",
       "      <td>1</td>\n",
       "      <td>0</td>\n",
       "      <td>130</td>\n",
       "      <td>131</td>\n",
       "      <td>0</td>\n",
       "      <td>1</td>\n",
       "      <td>115</td>\n",
       "      <td>1</td>\n",
       "      <td>1.2</td>\n",
       "      <td>1</td>\n",
       "      <td>1</td>\n",
       "      <td>3</td>\n",
       "      <td>0</td>\n",
       "    </tr>\n",
       "    <tr>\n",
       "      <th>302</th>\n",
       "      <td>57</td>\n",
       "      <td>0</td>\n",
       "      <td>1</td>\n",
       "      <td>130</td>\n",
       "      <td>236</td>\n",
       "      <td>0</td>\n",
       "      <td>0</td>\n",
       "      <td>174</td>\n",
       "      <td>0</td>\n",
       "      <td>0.0</td>\n",
       "      <td>1</td>\n",
       "      <td>1</td>\n",
       "      <td>2</td>\n",
       "      <td>0</td>\n",
       "    </tr>\n",
       "  </tbody>\n",
       "</table>\n",
       "<p>303 rows × 14 columns</p>\n",
       "</div>"
      ],
      "text/plain": [
       "     age  sex  cp  trtbps  chol  fbs  restecg  thalachh  exng  oldpeak  slp  \\\n",
       "0     63    1   3     145   233    1        0       150     0      2.3    0   \n",
       "1     37    1   2     130   250    0        1       187     0      3.5    0   \n",
       "2     41    0   1     130   204    0        0       172     0      1.4    2   \n",
       "3     56    1   1     120   236    0        1       178     0      0.8    2   \n",
       "4     57    0   0     120   354    0        1       163     1      0.6    2   \n",
       "..   ...  ...  ..     ...   ...  ...      ...       ...   ...      ...  ...   \n",
       "298   57    0   0     140   241    0        1       123     1      0.2    1   \n",
       "299   45    1   3     110   264    0        1       132     0      1.2    1   \n",
       "300   68    1   0     144   193    1        1       141     0      3.4    1   \n",
       "301   57    1   0     130   131    0        1       115     1      1.2    1   \n",
       "302   57    0   1     130   236    0        0       174     0      0.0    1   \n",
       "\n",
       "     caa  thall  output  \n",
       "0      0      1       1  \n",
       "1      0      2       1  \n",
       "2      0      2       1  \n",
       "3      0      2       1  \n",
       "4      0      2       1  \n",
       "..   ...    ...     ...  \n",
       "298    0      3       0  \n",
       "299    0      3       0  \n",
       "300    2      3       0  \n",
       "301    1      3       0  \n",
       "302    1      2       0  \n",
       "\n",
       "[303 rows x 14 columns]"
      ]
     },
     "execution_count": 7,
     "metadata": {},
     "output_type": "execute_result"
    }
   ],
   "source": [
    "df"
   ]
  },
  {
   "cell_type": "code",
   "execution_count": 8,
   "id": "b3cab6b8",
   "metadata": {
    "pycharm": {
     "name": "#%%\n"
    }
   },
   "outputs": [
    {
     "data": {
      "text/plain": [
       "age         0\n",
       "sex         0\n",
       "cp          0\n",
       "trtbps      0\n",
       "chol        0\n",
       "fbs         0\n",
       "restecg     0\n",
       "thalachh    0\n",
       "exng        0\n",
       "oldpeak     0\n",
       "slp         0\n",
       "caa         0\n",
       "thall       0\n",
       "output      0\n",
       "dtype: int64"
      ]
     },
     "execution_count": 8,
     "metadata": {},
     "output_type": "execute_result"
    }
   ],
   "source": [
    "df.isna().sum()"
   ]
  },
  {
   "cell_type": "code",
   "execution_count": 9,
   "id": "fbacf5b4",
   "metadata": {
    "pycharm": {
     "name": "#%%\n"
    }
   },
   "outputs": [],
   "source": [
    "xdata=df.drop('output', axis=1)\n",
    "ydata=df['output']"
   ]
  },
  {
   "cell_type": "code",
   "execution_count": 11,
   "id": "6a147c03",
   "metadata": {
    "pycharm": {
     "name": "#%%\n"
    }
   },
   "outputs": [],
   "source": [
    "from sklearn.model_selection import train_test_split\n",
    "xtrain, xtest, ytrain, ytest = train_test_split(xdata,ydata)"
   ]
  },
  {
   "cell_type": "code",
   "execution_count": 12,
   "id": "acaba1a1",
   "metadata": {
    "pycharm": {
     "name": "#%%\n"
    },
    "scrolled": true
   },
   "outputs": [
    {
     "data": {
      "text/html": [
       "<div>\n",
       "<style scoped>\n",
       "    .dataframe tbody tr th:only-of-type {\n",
       "        vertical-align: middle;\n",
       "    }\n",
       "\n",
       "    .dataframe tbody tr th {\n",
       "        vertical-align: top;\n",
       "    }\n",
       "\n",
       "    .dataframe thead th {\n",
       "        text-align: right;\n",
       "    }\n",
       "</style>\n",
       "<table border=\"1\" class=\"dataframe\">\n",
       "  <thead>\n",
       "    <tr style=\"text-align: right;\">\n",
       "      <th></th>\n",
       "      <th>age</th>\n",
       "      <th>sex</th>\n",
       "      <th>cp</th>\n",
       "      <th>trtbps</th>\n",
       "      <th>chol</th>\n",
       "      <th>fbs</th>\n",
       "      <th>restecg</th>\n",
       "      <th>thalachh</th>\n",
       "      <th>exng</th>\n",
       "      <th>oldpeak</th>\n",
       "      <th>slp</th>\n",
       "      <th>caa</th>\n",
       "      <th>thall</th>\n",
       "    </tr>\n",
       "  </thead>\n",
       "  <tbody>\n",
       "    <tr>\n",
       "      <th>175</th>\n",
       "      <td>40</td>\n",
       "      <td>1</td>\n",
       "      <td>0</td>\n",
       "      <td>110</td>\n",
       "      <td>167</td>\n",
       "      <td>0</td>\n",
       "      <td>0</td>\n",
       "      <td>114</td>\n",
       "      <td>1</td>\n",
       "      <td>2.0</td>\n",
       "      <td>1</td>\n",
       "      <td>0</td>\n",
       "      <td>3</td>\n",
       "    </tr>\n",
       "    <tr>\n",
       "      <th>34</th>\n",
       "      <td>51</td>\n",
       "      <td>1</td>\n",
       "      <td>3</td>\n",
       "      <td>125</td>\n",
       "      <td>213</td>\n",
       "      <td>0</td>\n",
       "      <td>0</td>\n",
       "      <td>125</td>\n",
       "      <td>1</td>\n",
       "      <td>1.4</td>\n",
       "      <td>2</td>\n",
       "      <td>1</td>\n",
       "      <td>2</td>\n",
       "    </tr>\n",
       "    <tr>\n",
       "      <th>228</th>\n",
       "      <td>59</td>\n",
       "      <td>1</td>\n",
       "      <td>3</td>\n",
       "      <td>170</td>\n",
       "      <td>288</td>\n",
       "      <td>0</td>\n",
       "      <td>0</td>\n",
       "      <td>159</td>\n",
       "      <td>0</td>\n",
       "      <td>0.2</td>\n",
       "      <td>1</td>\n",
       "      <td>0</td>\n",
       "      <td>3</td>\n",
       "    </tr>\n",
       "    <tr>\n",
       "      <th>256</th>\n",
       "      <td>58</td>\n",
       "      <td>1</td>\n",
       "      <td>0</td>\n",
       "      <td>128</td>\n",
       "      <td>259</td>\n",
       "      <td>0</td>\n",
       "      <td>0</td>\n",
       "      <td>130</td>\n",
       "      <td>1</td>\n",
       "      <td>3.0</td>\n",
       "      <td>1</td>\n",
       "      <td>2</td>\n",
       "      <td>3</td>\n",
       "    </tr>\n",
       "    <tr>\n",
       "      <th>11</th>\n",
       "      <td>48</td>\n",
       "      <td>0</td>\n",
       "      <td>2</td>\n",
       "      <td>130</td>\n",
       "      <td>275</td>\n",
       "      <td>0</td>\n",
       "      <td>1</td>\n",
       "      <td>139</td>\n",
       "      <td>0</td>\n",
       "      <td>0.2</td>\n",
       "      <td>2</td>\n",
       "      <td>0</td>\n",
       "      <td>2</td>\n",
       "    </tr>\n",
       "    <tr>\n",
       "      <th>...</th>\n",
       "      <td>...</td>\n",
       "      <td>...</td>\n",
       "      <td>...</td>\n",
       "      <td>...</td>\n",
       "      <td>...</td>\n",
       "      <td>...</td>\n",
       "      <td>...</td>\n",
       "      <td>...</td>\n",
       "      <td>...</td>\n",
       "      <td>...</td>\n",
       "      <td>...</td>\n",
       "      <td>...</td>\n",
       "      <td>...</td>\n",
       "    </tr>\n",
       "    <tr>\n",
       "      <th>199</th>\n",
       "      <td>65</td>\n",
       "      <td>1</td>\n",
       "      <td>0</td>\n",
       "      <td>110</td>\n",
       "      <td>248</td>\n",
       "      <td>0</td>\n",
       "      <td>0</td>\n",
       "      <td>158</td>\n",
       "      <td>0</td>\n",
       "      <td>0.6</td>\n",
       "      <td>2</td>\n",
       "      <td>2</td>\n",
       "      <td>1</td>\n",
       "    </tr>\n",
       "    <tr>\n",
       "      <th>144</th>\n",
       "      <td>76</td>\n",
       "      <td>0</td>\n",
       "      <td>2</td>\n",
       "      <td>140</td>\n",
       "      <td>197</td>\n",
       "      <td>0</td>\n",
       "      <td>2</td>\n",
       "      <td>116</td>\n",
       "      <td>0</td>\n",
       "      <td>1.1</td>\n",
       "      <td>1</td>\n",
       "      <td>0</td>\n",
       "      <td>2</td>\n",
       "    </tr>\n",
       "    <tr>\n",
       "      <th>263</th>\n",
       "      <td>63</td>\n",
       "      <td>0</td>\n",
       "      <td>0</td>\n",
       "      <td>108</td>\n",
       "      <td>269</td>\n",
       "      <td>0</td>\n",
       "      <td>1</td>\n",
       "      <td>169</td>\n",
       "      <td>1</td>\n",
       "      <td>1.8</td>\n",
       "      <td>1</td>\n",
       "      <td>2</td>\n",
       "      <td>2</td>\n",
       "    </tr>\n",
       "    <tr>\n",
       "      <th>81</th>\n",
       "      <td>45</td>\n",
       "      <td>1</td>\n",
       "      <td>1</td>\n",
       "      <td>128</td>\n",
       "      <td>308</td>\n",
       "      <td>0</td>\n",
       "      <td>0</td>\n",
       "      <td>170</td>\n",
       "      <td>0</td>\n",
       "      <td>0.0</td>\n",
       "      <td>2</td>\n",
       "      <td>0</td>\n",
       "      <td>2</td>\n",
       "    </tr>\n",
       "    <tr>\n",
       "      <th>163</th>\n",
       "      <td>38</td>\n",
       "      <td>1</td>\n",
       "      <td>2</td>\n",
       "      <td>138</td>\n",
       "      <td>175</td>\n",
       "      <td>0</td>\n",
       "      <td>1</td>\n",
       "      <td>173</td>\n",
       "      <td>0</td>\n",
       "      <td>0.0</td>\n",
       "      <td>2</td>\n",
       "      <td>4</td>\n",
       "      <td>2</td>\n",
       "    </tr>\n",
       "  </tbody>\n",
       "</table>\n",
       "<p>227 rows × 13 columns</p>\n",
       "</div>"
      ],
      "text/plain": [
       "     age  sex  cp  trtbps  chol  fbs  restecg  thalachh  exng  oldpeak  slp  \\\n",
       "175   40    1   0     110   167    0        0       114     1      2.0    1   \n",
       "34    51    1   3     125   213    0        0       125     1      1.4    2   \n",
       "228   59    1   3     170   288    0        0       159     0      0.2    1   \n",
       "256   58    1   0     128   259    0        0       130     1      3.0    1   \n",
       "11    48    0   2     130   275    0        1       139     0      0.2    2   \n",
       "..   ...  ...  ..     ...   ...  ...      ...       ...   ...      ...  ...   \n",
       "199   65    1   0     110   248    0        0       158     0      0.6    2   \n",
       "144   76    0   2     140   197    0        2       116     0      1.1    1   \n",
       "263   63    0   0     108   269    0        1       169     1      1.8    1   \n",
       "81    45    1   1     128   308    0        0       170     0      0.0    2   \n",
       "163   38    1   2     138   175    0        1       173     0      0.0    2   \n",
       "\n",
       "     caa  thall  \n",
       "175    0      3  \n",
       "34     1      2  \n",
       "228    0      3  \n",
       "256    2      3  \n",
       "11     0      2  \n",
       "..   ...    ...  \n",
       "199    2      1  \n",
       "144    0      2  \n",
       "263    2      2  \n",
       "81     0      2  \n",
       "163    4      2  \n",
       "\n",
       "[227 rows x 13 columns]"
      ]
     },
     "execution_count": 12,
     "metadata": {},
     "output_type": "execute_result"
    }
   ],
   "source": [
    "xtrain"
   ]
  },
  {
   "cell_type": "code",
   "execution_count": null,
   "outputs": [],
   "source": [
    "para = {\n",
    "    'solver': ['newton-cg','lbfgs','liblinear','sag','saga'],\n",
    "    'penalty': ['none','l1','l2','elasticnet'],\n",
    "    'C': [100,10,1.0,0.1,0.01]\n",
    "}"
   ],
   "metadata": {
    "collapsed": false,
    "pycharm": {
     "name": "#%%\n"
    }
   }
  },
  {
   "cell_type": "code",
   "execution_count": null,
   "outputs": [],
   "source": [
    "from sklearn.linear_model import LogisticRegression"
   ],
   "metadata": {
    "collapsed": false,
    "pycharm": {
     "name": "#%%\n"
    }
   }
  },
  {
   "cell_type": "code",
   "execution_count": null,
   "outputs": [],
   "source": [
    "best = GridSearchCV(LogisticRegression(),para)\n",
    "best.fit(xtrain,ytrain)"
   ],
   "metadata": {
    "collapsed": false,
    "pycharm": {
     "name": "#%%\n"
    }
   }
  },
  {
   "cell_type": "code",
   "execution_count": null,
   "outputs": [],
   "source": [
    "best.best_params_"
   ],
   "metadata": {
    "collapsed": false,
    "pycharm": {
     "name": "#%%\n"
    }
   }
  },
  {
   "cell_type": "code",
   "execution_count": null,
   "outputs": [],
   "source": [
    "model = LogisticRegression(penalty='l2',C=10,solver='lbfgs')\n",
    "model.fit(xtrain,ytrain)"
   ],
   "metadata": {
    "collapsed": false,
    "pycharm": {
     "name": "#%%\n"
    }
   }
  },
  {
   "cell_type": "code",
   "execution_count": null,
   "outputs": [],
   "source": [
    "from sklearn.metrics import confusion_matrix,classification_report,accuracy_score"
   ],
   "metadata": {
    "collapsed": false,
    "pycharm": {
     "name": "#%%\n"
    }
   }
  },
  {
   "cell_type": "code",
   "execution_count": null,
   "outputs": [],
   "source": [
    "pred = model.predict(xtest)"
   ],
   "metadata": {
    "collapsed": false,
    "pycharm": {
     "name": "#%%\n"
    }
   }
  },
  {
   "cell_type": "code",
   "execution_count": null,
   "outputs": [],
   "source": [
    "accuracy_score(ytest, pred)"
   ],
   "metadata": {
    "collapsed": false,
    "pycharm": {
     "name": "#%%\n"
    }
   }
  },
  {
   "cell_type": "code",
   "execution_count": null,
   "outputs": [],
   "source": [
    "from sklearn.linear_model import LogisticRegression\n",
    "model=LogisticRegression()"
   ],
   "metadata": {
    "collapsed": false,
    "pycharm": {
     "name": "#%%\n"
    }
   }
  },
  {
   "cell_type": "code",
   "execution_count": null,
   "id": "ac70c69e",
   "metadata": {},
   "outputs": [],
   "source": [
    "from sklearn.linear_model import LogisticRegression"
   ]
  },
  {
   "cell_type": "code",
   "execution_count": null,
   "id": "205a20ac",
   "metadata": {},
   "outputs": [],
   "source": [
    "best = GridSearchCV(LogisticRegression(),para)\n",
    "best.fit(xtrain,ytrain)"
   ]
  },
  {
   "cell_type": "code",
   "execution_count": null,
   "id": "93825ac7",
   "metadata": {},
   "outputs": [],
   "source": [
    "best.best_params_"
   ]
  },
  {
   "cell_type": "code",
   "execution_count": null,
   "id": "c8cda05d",
   "metadata": {},
   "outputs": [],
   "source": [
    "model = LogisticRegression(penalty='l2',C=10,solver='lbfgs')\n",
    "model.fit(xtrain,ytrain)"
   ]
  },
  {
   "cell_type": "code",
   "execution_count": null,
   "id": "ea669214",
   "metadata": {},
   "outputs": [],
   "source": [
    "from sklearn.metrics import confusion_matrix,classification_report,accuracy_score"
   ]
  },
  {
   "cell_type": "code",
   "execution_count": null,
   "id": "5384b41b",
   "metadata": {},
   "outputs": [],
   "source": [
    "pred = model.predict(xtest)"
   ]
  },
  {
   "cell_type": "code",
   "execution_count": null,
   "id": "54615676",
   "metadata": {},
   "outputs": [],
   "source": [
    "accuracy_score(ytest, pred)"
   ]
  },
  {
   "cell_type": "code",
   "execution_count": 13,
   "id": "7dfc1a26",
   "metadata": {
    "pycharm": {
     "name": "#%%\n"
    }
   },
   "outputs": [],
   "source": [
    "from sklearn.linear_model import LogisticRegression\n",
    "model=LogisticRegression()"
   ]
  },
  {
   "cell_type": "code",
   "execution_count": null,
   "id": "869cee5a",
   "metadata": {
    "pycharm": {
     "name": "#%%\n"
    }
   },
   "outputs": [],
   "source": [
    "#AUTO ML"
   ]
  },
  {
   "cell_type": "code",
   "execution_count": 1,
   "id": "1947f2f5",
   "metadata": {
    "pycharm": {
     "name": "#%%\n"
    }
   },
   "outputs": [],
   "source": [
    "import evalml"
   ]
  },
  {
   "cell_type": "code",
   "execution_count": 2,
   "id": "7bea00db",
   "metadata": {
    "pycharm": {
     "name": "#%%\n"
    }
   },
   "outputs": [],
   "source": [
    "from evalml.preprocessing import split_data"
   ]
  },
  {
   "cell_type": "code",
   "execution_count": 15,
   "id": "f39b6202",
   "metadata": {
    "pycharm": {
     "name": "#%%\n"
    }
   },
   "outputs": [],
   "source": [
    "xtrain, xtest, ytrain, ytest = split_data(xdata,ydata,problem_type='binary')"
   ]
  },
  {
   "cell_type": "code",
   "execution_count": 20,
   "id": "3c51ca00",
   "metadata": {
    "pycharm": {
     "name": "#%%\n"
    }
   },
   "outputs": [
    {
     "ename": "SyntaxError",
     "evalue": "invalid syntax (1034939260.py, line 1)",
     "output_type": "error",
     "traceback": [
      "\u001B[1;36m  Input \u001B[1;32mIn [20]\u001B[1;36m\u001B[0m\n\u001B[1;33m    evalml.problem_types.ProblemTypes.\u001B[0m\n\u001B[1;37m                                      ^\u001B[0m\n\u001B[1;31mSyntaxError\u001B[0m\u001B[1;31m:\u001B[0m invalid syntax\n"
     ]
    }
   ],
   "source": [
    "evalml.problem_types.ProblemTypes. #Pressing tab here will show all the possible problem types"
   ]
  },
  {
   "cell_type": "code",
   "execution_count": 18,
   "id": "c891880e",
   "metadata": {
    "pycharm": {
     "name": "#%%\n"
    }
   },
   "outputs": [],
   "source": [
    "from evalml.automl import AutoMLSearch"
   ]
  },
  {
   "cell_type": "code",
   "execution_count": 21,
   "id": "25ab41d5",
   "metadata": {
    "pycharm": {
     "name": "#%%\n"
    }
   },
   "outputs": [
    {
     "name": "stderr",
     "output_type": "stream",
     "text": [
      "\tHigh coefficient of variation (cv >= 0.5) within cross validation scores.\n",
      "\tDecision Tree Classifier w/ Label Encoder + Replace Nullable Types Transformer + Imputer + Select Columns Transformer may not perform as estimated on unseen data.\n"
     ]
    },
    {
     "data": {
      "text/plain": [
       "{1: {'Logistic Regression Classifier w/ Label Encoder + Replace Nullable Types Transformer + Imputer + Standard Scaler': '00:04',\n",
       "  'Random Forest Classifier w/ Label Encoder + Replace Nullable Types Transformer + Imputer': '00:00',\n",
       "  'Total time of batch': '00:05'},\n",
       " 2: {'Logistic Regression Classifier w/ Label Encoder + Replace Nullable Types Transformer + Imputer + Standard Scaler + RF Classifier Select From Model': '00:01',\n",
       "  'Random Forest Classifier w/ Label Encoder + Replace Nullable Types Transformer + Imputer + RF Classifier Select From Model': '00:01',\n",
       "  'Total time of batch': '00:02'},\n",
       " 3: {'Decision Tree Classifier w/ Label Encoder + Replace Nullable Types Transformer + Imputer + Select Columns Transformer': '00:00',\n",
       "  'LightGBM Classifier w/ Label Encoder + Replace Nullable Types Transformer + Imputer + Select Columns Transformer': '00:00',\n",
       "  'Extra Trees Classifier w/ Label Encoder + Replace Nullable Types Transformer + Imputer + Select Columns Transformer': '00:00',\n",
       "  'Elastic Net Classifier w/ Label Encoder + Replace Nullable Types Transformer + Imputer + Standard Scaler + Select Columns Transformer': '00:00',\n",
       "  'CatBoost Classifier w/ Label Encoder + Replace Nullable Types Transformer + Imputer + Select Columns Transformer': '00:01',\n",
       "  'XGBoost Classifier w/ Label Encoder + Replace Nullable Types Transformer + Imputer + Select Columns Transformer': '00:01',\n",
       "  'Total time of batch': '00:05'}}"
      ]
     },
     "execution_count": 21,
     "metadata": {},
     "output_type": "execute_result"
    }
   ],
   "source": [
    "best=AutoMLSearch(xtrain,ytrain,problem_type='binary')\n",
    "best.search()"
   ]
  },
  {
   "cell_type": "code",
   "execution_count": 22,
   "id": "55bfb8e9",
   "metadata": {
    "pycharm": {
     "name": "#%%\n"
    },
    "scrolled": true
   },
   "outputs": [
    {
     "data": {
      "text/html": [
       "<div>\n",
       "<style scoped>\n",
       "    .dataframe tbody tr th:only-of-type {\n",
       "        vertical-align: middle;\n",
       "    }\n",
       "\n",
       "    .dataframe tbody tr th {\n",
       "        vertical-align: top;\n",
       "    }\n",
       "\n",
       "    .dataframe thead th {\n",
       "        text-align: right;\n",
       "    }\n",
       "</style>\n",
       "<table border=\"1\" class=\"dataframe\">\n",
       "  <thead>\n",
       "    <tr style=\"text-align: right;\">\n",
       "      <th></th>\n",
       "      <th>id</th>\n",
       "      <th>pipeline_name</th>\n",
       "      <th>search_order</th>\n",
       "      <th>validation_score</th>\n",
       "      <th>mean_cv_score</th>\n",
       "      <th>standard_deviation_cv_score</th>\n",
       "      <th>percent_better_than_baseline</th>\n",
       "      <th>high_variance_cv</th>\n",
       "      <th>parameters</th>\n",
       "    </tr>\n",
       "  </thead>\n",
       "  <tbody>\n",
       "    <tr>\n",
       "      <th>0</th>\n",
       "      <td>7</td>\n",
       "      <td>Extra Trees Classifier w/ Label Encoder + Repl...</td>\n",
       "      <td>7</td>\n",
       "      <td>0.413358</td>\n",
       "      <td>0.413358</td>\n",
       "      <td>0.029595</td>\n",
       "      <td>97.366943</td>\n",
       "      <td>False</td>\n",
       "      <td>{'Label Encoder': {'positive_label': None}, 'I...</td>\n",
       "    </tr>\n",
       "    <tr>\n",
       "      <th>1</th>\n",
       "      <td>2</td>\n",
       "      <td>Random Forest Classifier w/ Label Encoder + Re...</td>\n",
       "      <td>2</td>\n",
       "      <td>0.420733</td>\n",
       "      <td>0.420733</td>\n",
       "      <td>0.032101</td>\n",
       "      <td>97.319964</td>\n",
       "      <td>False</td>\n",
       "      <td>{'Label Encoder': {'positive_label': None}, 'I...</td>\n",
       "    </tr>\n",
       "    <tr>\n",
       "      <th>2</th>\n",
       "      <td>6</td>\n",
       "      <td>LightGBM Classifier w/ Label Encoder + Replace...</td>\n",
       "      <td>6</td>\n",
       "      <td>0.462099</td>\n",
       "      <td>0.462099</td>\n",
       "      <td>0.066745</td>\n",
       "      <td>97.056469</td>\n",
       "      <td>False</td>\n",
       "      <td>{'Label Encoder': {'positive_label': None}, 'I...</td>\n",
       "    </tr>\n",
       "    <tr>\n",
       "      <th>3</th>\n",
       "      <td>4</td>\n",
       "      <td>Random Forest Classifier w/ Label Encoder + Re...</td>\n",
       "      <td>4</td>\n",
       "      <td>0.466918</td>\n",
       "      <td>0.466918</td>\n",
       "      <td>0.024541</td>\n",
       "      <td>97.025773</td>\n",
       "      <td>False</td>\n",
       "      <td>{'Label Encoder': {'positive_label': None}, 'I...</td>\n",
       "    </tr>\n",
       "    <tr>\n",
       "      <th>4</th>\n",
       "      <td>8</td>\n",
       "      <td>Elastic Net Classifier w/ Label Encoder + Repl...</td>\n",
       "      <td>8</td>\n",
       "      <td>0.470037</td>\n",
       "      <td>0.470037</td>\n",
       "      <td>0.075389</td>\n",
       "      <td>97.005905</td>\n",
       "      <td>False</td>\n",
       "      <td>{'Label Encoder': {'positive_label': None}, 'I...</td>\n",
       "    </tr>\n",
       "    <tr>\n",
       "      <th>5</th>\n",
       "      <td>10</td>\n",
       "      <td>XGBoost Classifier w/ Label Encoder + Replace ...</td>\n",
       "      <td>10</td>\n",
       "      <td>0.488356</td>\n",
       "      <td>0.488356</td>\n",
       "      <td>0.042491</td>\n",
       "      <td>96.889214</td>\n",
       "      <td>False</td>\n",
       "      <td>{'Label Encoder': {'positive_label': None}, 'I...</td>\n",
       "    </tr>\n",
       "    <tr>\n",
       "      <th>6</th>\n",
       "      <td>1</td>\n",
       "      <td>Logistic Regression Classifier w/ Label Encode...</td>\n",
       "      <td>1</td>\n",
       "      <td>0.489726</td>\n",
       "      <td>0.489726</td>\n",
       "      <td>0.058300</td>\n",
       "      <td>96.880485</td>\n",
       "      <td>False</td>\n",
       "      <td>{'Label Encoder': {'positive_label': None}, 'I...</td>\n",
       "    </tr>\n",
       "    <tr>\n",
       "      <th>7</th>\n",
       "      <td>3</td>\n",
       "      <td>Logistic Regression Classifier w/ Label Encode...</td>\n",
       "      <td>3</td>\n",
       "      <td>0.526695</td>\n",
       "      <td>0.526695</td>\n",
       "      <td>0.022981</td>\n",
       "      <td>96.644997</td>\n",
       "      <td>False</td>\n",
       "      <td>{'Label Encoder': {'positive_label': None}, 'I...</td>\n",
       "    </tr>\n",
       "    <tr>\n",
       "      <th>8</th>\n",
       "      <td>9</td>\n",
       "      <td>CatBoost Classifier w/ Label Encoder + Replace...</td>\n",
       "      <td>9</td>\n",
       "      <td>0.638074</td>\n",
       "      <td>0.638074</td>\n",
       "      <td>0.006335</td>\n",
       "      <td>95.935522</td>\n",
       "      <td>False</td>\n",
       "      <td>{'Label Encoder': {'positive_label': None}, 'I...</td>\n",
       "    </tr>\n",
       "    <tr>\n",
       "      <th>9</th>\n",
       "      <td>5</td>\n",
       "      <td>Decision Tree Classifier w/ Label Encoder + Re...</td>\n",
       "      <td>5</td>\n",
       "      <td>6.429347</td>\n",
       "      <td>6.429347</td>\n",
       "      <td>2.401983</td>\n",
       "      <td>59.045611</td>\n",
       "      <td>True</td>\n",
       "      <td>{'Label Encoder': {'positive_label': None}, 'I...</td>\n",
       "    </tr>\n",
       "    <tr>\n",
       "      <th>10</th>\n",
       "      <td>0</td>\n",
       "      <td>Mode Baseline Binary Classification Pipeline</td>\n",
       "      <td>0</td>\n",
       "      <td>15.698798</td>\n",
       "      <td>15.698798</td>\n",
       "      <td>0.135402</td>\n",
       "      <td>0.000000</td>\n",
       "      <td>False</td>\n",
       "      <td>{'Label Encoder': {'positive_label': None}, 'B...</td>\n",
       "    </tr>\n",
       "  </tbody>\n",
       "</table>\n",
       "</div>"
      ],
      "text/plain": [
       "    id                                      pipeline_name  search_order  \\\n",
       "0    7  Extra Trees Classifier w/ Label Encoder + Repl...             7   \n",
       "1    2  Random Forest Classifier w/ Label Encoder + Re...             2   \n",
       "2    6  LightGBM Classifier w/ Label Encoder + Replace...             6   \n",
       "3    4  Random Forest Classifier w/ Label Encoder + Re...             4   \n",
       "4    8  Elastic Net Classifier w/ Label Encoder + Repl...             8   \n",
       "5   10  XGBoost Classifier w/ Label Encoder + Replace ...            10   \n",
       "6    1  Logistic Regression Classifier w/ Label Encode...             1   \n",
       "7    3  Logistic Regression Classifier w/ Label Encode...             3   \n",
       "8    9  CatBoost Classifier w/ Label Encoder + Replace...             9   \n",
       "9    5  Decision Tree Classifier w/ Label Encoder + Re...             5   \n",
       "10   0       Mode Baseline Binary Classification Pipeline             0   \n",
       "\n",
       "    validation_score  mean_cv_score  standard_deviation_cv_score  \\\n",
       "0           0.413358       0.413358                     0.029595   \n",
       "1           0.420733       0.420733                     0.032101   \n",
       "2           0.462099       0.462099                     0.066745   \n",
       "3           0.466918       0.466918                     0.024541   \n",
       "4           0.470037       0.470037                     0.075389   \n",
       "5           0.488356       0.488356                     0.042491   \n",
       "6           0.489726       0.489726                     0.058300   \n",
       "7           0.526695       0.526695                     0.022981   \n",
       "8           0.638074       0.638074                     0.006335   \n",
       "9           6.429347       6.429347                     2.401983   \n",
       "10         15.698798      15.698798                     0.135402   \n",
       "\n",
       "    percent_better_than_baseline  high_variance_cv  \\\n",
       "0                      97.366943             False   \n",
       "1                      97.319964             False   \n",
       "2                      97.056469             False   \n",
       "3                      97.025773             False   \n",
       "4                      97.005905             False   \n",
       "5                      96.889214             False   \n",
       "6                      96.880485             False   \n",
       "7                      96.644997             False   \n",
       "8                      95.935522             False   \n",
       "9                      59.045611              True   \n",
       "10                      0.000000             False   \n",
       "\n",
       "                                           parameters  \n",
       "0   {'Label Encoder': {'positive_label': None}, 'I...  \n",
       "1   {'Label Encoder': {'positive_label': None}, 'I...  \n",
       "2   {'Label Encoder': {'positive_label': None}, 'I...  \n",
       "3   {'Label Encoder': {'positive_label': None}, 'I...  \n",
       "4   {'Label Encoder': {'positive_label': None}, 'I...  \n",
       "5   {'Label Encoder': {'positive_label': None}, 'I...  \n",
       "6   {'Label Encoder': {'positive_label': None}, 'I...  \n",
       "7   {'Label Encoder': {'positive_label': None}, 'I...  \n",
       "8   {'Label Encoder': {'positive_label': None}, 'I...  \n",
       "9   {'Label Encoder': {'positive_label': None}, 'I...  \n",
       "10  {'Label Encoder': {'positive_label': None}, 'B...  "
      ]
     },
     "execution_count": 22,
     "metadata": {},
     "output_type": "execute_result"
    }
   ],
   "source": [
    "best.rankings"
   ]
  },
  {
   "cell_type": "code",
   "execution_count": 25,
   "id": "b171824c",
   "metadata": {
    "pycharm": {
     "name": "#%%\n"
    }
   },
   "outputs": [
    {
     "data": {
      "text/plain": [
       "pipeline = BinaryClassificationPipeline(component_graph={'Label Encoder': ['Label Encoder', 'X', 'y'], 'Replace Nullable Types Transformer': ['Replace Nullable Types Transformer', 'X', 'Label Encoder.y'], 'Imputer': ['Imputer', 'Replace Nullable Types Transformer.x', 'Replace Nullable Types Transformer.y'], 'Select Columns Transformer': ['Select Columns Transformer', 'Imputer.x', 'Replace Nullable Types Transformer.y'], 'Extra Trees Classifier': ['Extra Trees Classifier', 'Select Columns Transformer.x', 'Replace Nullable Types Transformer.y']}, parameters={'Label Encoder':{'positive_label': None}, 'Imputer':{'categorical_impute_strategy': 'most_frequent', 'numeric_impute_strategy': 'mean', 'boolean_impute_strategy': 'most_frequent', 'categorical_fill_value': None, 'numeric_fill_value': None, 'boolean_fill_value': None}, 'Select Columns Transformer':{'columns': ['age', 'cp', 'thalachh', 'exng', 'oldpeak', 'caa', 'thall']}, 'Extra Trees Classifier':{'n_estimators': 100, 'max_features': 'auto', 'max_depth': 6, 'min_samples_split': 2, 'min_weight_fraction_leaf': 0.0, 'n_jobs': -1}}, random_seed=0)"
      ]
     },
     "execution_count": 25,
     "metadata": {},
     "output_type": "execute_result"
    }
   ],
   "source": [
    "pipe=best.best_pipeline\n",
    "pipe"
   ]
  },
  {
   "cell_type": "code",
   "execution_count": 28,
   "id": "d621766c",
   "metadata": {
    "pycharm": {
     "name": "#%%\n"
    }
   },
   "outputs": [
    {
     "data": {
      "text/plain": [
       "OrderedDict([('AUC', 0.8701298701298702),\n",
       "             ('Precision', 0.8064516129032258),\n",
       "             ('F1', 0.7812499999999999)])"
      ]
     },
     "execution_count": 28,
     "metadata": {},
     "output_type": "execute_result"
    }
   ],
   "source": [
    "pipe.score(xtest,ytest, objectives=['auc', 'precision','f1'])"
   ]
  },
  {
   "cell_type": "code",
   "execution_count": null,
   "id": "23992866",
   "metadata": {
    "pycharm": {
     "name": "#%%\n"
    }
   },
   "outputs": [],
   "source": []
  }
 ],
 "metadata": {
  "kernelspec": {
   "display_name": "Python 3 (ipykernel)",
   "language": "python",
   "name": "python3"
  },
  "language_info": {
   "codemirror_mode": {
    "name": "ipython",
    "version": 3
   },
   "file_extension": ".py",
   "mimetype": "text/x-python",
   "name": "python",
   "nbconvert_exporter": "python",
   "pygments_lexer": "ipython3",
   "version": "3.9.12"
  }
 },
 "nbformat": 4,
 "nbformat_minor": 5
}